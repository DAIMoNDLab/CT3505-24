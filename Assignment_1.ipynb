{
 "cells": [
  {
   "cell_type": "code",
   "execution_count": null,
   "metadata": {},
   "outputs": [],
   "source": [
    "# Imports cell\n",
    "import mercury as mr\n",
    "\n",
    "from random import randint, seed\n",
    "from dotenv import load_dotenv\n",
    "import sys, pickle, shutil, os.path\n",
    "from tud_sumo.simulation import Simulation\n",
    "from tud_sumo.plot import Plotter, MultiPlotter\n",
    "from datetime import datetime\n",
    "from pathlib import Path\n",
    "import pandas as pd\n",
    "from lxml import etree\n"
   ]
  },
  {
   "cell_type": "code",
   "execution_count": null,
   "metadata": {},
   "outputs": [],
   "source": [
    "app = mr.App(title=\"TFM 2025/26 Assignment 1\",description=\"CT3505-24: Assignment 1 2025/26\",allow_download=False,allow_share=False)"
   ]
  },
  {
   "cell_type": "markdown",
   "metadata": {},
   "source": [
    "# CT3505-24 - Traffic Flows and Management - 2025/26"
   ]
  },
  {
   "cell_type": "markdown",
   "metadata": {},
   "source": [
    "## Assignment 1: Circular road network"
   ]
  },
  {
   "cell_type": "markdown",
   "metadata": {},
   "source": [
    "## Using this interactive notebook\n",
    "**Please refer to the course's Brightspace page. Find more information on this notebook in the README.md and INSTALL.md files.**\n",
    "\n",
    "- Choose your vehicle and simulation parameters on the controls pane (<-)\n",
    "- Click on (re-)Run simulation to let the notebook interact with the simulation backend (SUMO)\n",
    "- Results are visualised below, under \"Simulation results\"\n",
    "- If \"Compare with previous simulation\" is active when selecting \"(re)-Run simulation\", the latest simulation results will be kept and comparative KPIs will be shown for both that and the newly adapted inputs.\n",
    "- If \"Store simulation results\" is selected, simulation results will be stored in the *./experiments* folder. Simulation results are stored in pickled Pandas dataframes. Results can therefore be inspected manually through Pandas, other than through this notebook.\n",
    "- If \"Show simulation\" is selected, SUMO's graphical user interface will open when a simulation is executed."
   ]
  },
  {
   "cell_type": "code",
   "execution_count": null,
   "metadata": {},
   "outputs": [],
   "source": [
    "#Graphical user interface\n",
    "\n",
    "\n",
    "HV_minGap_slider = mr.Slider(value=0.25,min=0.05,max=1.25,label=\"Minimum Desired Gap [m]\",step=0.05)\n",
    "HV_accel_slider = mr.Slider(value=1.5,min=0.05,max=4,label=\"Vehicle Accelleration [m/s^2]\",step=0.1)\n",
    "HV_decel_slider = mr.Slider(value=2,min=0.05,max=4,label=\"Vehicle Deceleration [m/s^2]\",step=0.05)\n",
    "HV_sigma_slider = mr.Slider(value=0.5,min=0,max=1,label=\"Vehicle homogeneity [0 = perfectly homogeneous, 0.5 = typical traffic]\",step=0.05)\n",
    "HV_tau_slider = mr.Slider(value=1,min=0.05,max=5,label=\"Desired Minimum Time Headway [s]\",step=0.05)\n",
    "numveh_slider = mr.Slider(value=20,min=10,max=60,label=\"Total demand [veh]\",step=1)\n",
    "#BA_button = mr.Button(label='Update vehicle behaviour parameters.')\n",
    "\n",
    "run_sim_button = mr.Button(label='(re-)Run simulation')\n",
    "\n",
    "\n",
    "compare_sim_results_toggle = mr.Checkbox(value=False,label=\"Compare with previous simulation\")\n",
    "#use_cache_toggle = mr.Checkbox(value=False,label=\"Use cache\")\n",
    "#if not use_cache_toggle.value:\n",
    "save_sim_toggle = mr.Checkbox(value=False,label=\"Store simulation results\")\n",
    "see_GUI_toggle = mr.Checkbox(value=False,label=\"Show simulation\")\n",
    "\n",
    "#else:\n",
    "    #compare_sim_results_toggle = mr.Checkbox(value=False,label=\"Compare with previous simulation\",disabled=True)\n",
    "    #save_sim_toggle = mr.Checkbox(value=False,label=\"Store simulation results\",disabled=True)\n",
    "    #see_GUI_toggle = mr.Checkbox(value=False,label=\"Show simulation\",disabled=True)\n",
    "\n",
    "    \n",
    "\n"
   ]
  },
  {
   "cell_type": "code",
   "execution_count": null,
   "metadata": {},
   "outputs": [],
   "source": [
    "# Convenience functions\n",
    "import re\n",
    "def readSimDescription(filename=\"\"):\n",
    "    description=\"\"\n",
    "    if filename != \"\" and filename.split('.')[-1]=='txt' and os.path.exists(filename): #some nice checking that this is a text file with desired outputs\n",
    "        raw_data=\"\"\n",
    "        with open(filename,'r') as f:\n",
    "            raw_data = f.read().replace('\\n', '')\n",
    "        try: #this bit is try catch'd, if it fails description remains = \"\"\n",
    "            raw_data=raw_data.split(\"Description:\")[1]\n",
    "            raw_data=raw_data.split(\"*\")[0]\n",
    "            raw_data=re.sub(r'\\s{2,}', ' ', raw_data)    \n",
    "            raw_data=raw_data.replace('|',' ')\n",
    "            description=raw_data\n",
    "        except Exception:\n",
    "            pass\n",
    "                \n",
    "\n",
    "    return description"
   ]
  },
  {
   "cell_type": "code",
   "execution_count": null,
   "metadata": {},
   "outputs": [],
   "source": [
    "#Simulation backend\n",
    "simComplete=False\n",
    "savesDir=Path(\".\").resolve().joinpath(\"experiments\")\n",
    "cacheDir=Path(\".\").resolve().joinpath(\"cache\")\n",
    "old_sim = None\n",
    "\n",
    "def updateVehicleClasses(HV_user_values_dict=dict(),HV_number=1,rouFile='./Network/circle.rou.xml'): #collects user input for Behavioural Adaptation and updates the corresponding classes in the scenario's rou file\n",
    "    HV_default_values_dict={'minGap':0.25,'accel':1.5,'decel':2,'tau':0.5,'sigma':0.5}\n",
    "    tree=etree.parse(rouFile)\n",
    "    root=tree.getroot()\n",
    "    for element in root.iter(\"vType\"):\n",
    "        attribs=element.attrib\n",
    "        if element.get(\"id\")==\"car\":\n",
    "            #Adapt parameters based on user input\n",
    "            for k in HV_default_values_dict.keys():\n",
    "                if k in HV_user_values_dict:\n",
    "                    attribs[k]=str(HV_user_values_dict[k])\n",
    "                else:\n",
    "                    attribs[k]=str(HV_default_values_dict[k])\n",
    "    for element in root.iter(\"flow\"):\n",
    "        attribs=element.attrib\n",
    "        if element.get(\"id\")==\"v\":\n",
    "            attribs[\"number\"]=str(HV_number) #Update number of vehicles in the flow\n",
    "\n",
    "    tree.write(rouFile)\n",
    "\n",
    "\n",
    "def runScenario(my_sim):\n",
    "\n",
    "    # Start the simulation, defining the sumo config files. Add \"-gui\" to the command line to run with the GUI.\n",
    "    my_sim.start(\"./Network/circle.sumocfg\", get_individual_vehicle_data=False, gui=(\"-gui\" in sys.argv) or forceGUI,\n",
    "                 seed=sim_seed, units=\"metric\", suppress_pbar=True) # Units can either be metric (km,kmph)/imperial (mi,mph)/UK (km,mph). All data collected is in these units.\n",
    "    \n",
    "    my_sim.add_tracked_edges([\"B999B1000\",\"B999B1000.327\"])\n",
    "    n, sim_dur, warmup = 1, 12*60 / my_sim.step_length, 0 / my_sim.step_length\n",
    "    \n",
    "   \n",
    "    if warmup > 0:\n",
    "        my_sim.step_through(n_steps=warmup, pbar_max_steps=sim_dur+warmup, keep_data=False)\n",
    "\n",
    "    while my_sim.curr_step < sim_dur + warmup:\n",
    "\n",
    "        \n",
    "        \n",
    "        # Step through n seconds.\n",
    "        my_sim.step_through(n_seconds=n, pbar_max_steps=sim_dur+warmup)\n",
    "\n",
    "       \n",
    "\n",
    "\n",
    "\n",
    "    # End the simulation.\n",
    "    my_sim.end()\n",
    "\n",
    "\n",
    "forceGUI = see_GUI_toggle.value\n",
    "scenario_name=\"circle_\"+datetime.now().strftime(\"%Y-%m-%d %H:%M:%S\")\n",
    "scenario_savefile=str(savesDir.joinpath(\"circle_\"+datetime.now().strftime(\"%Y-%m-%d %H%M%S\")))\n",
    "\n",
    "\n",
    "\n",
    "\n",
    "if run_sim_button.clicked:\n",
    "    try:\n",
    "        HV_user_values_dict={'minGap':HV_minGap_slider.value,'accel':HV_accel_slider.value,'decel':HV_decel_slider.value,'sigma':HV_sigma_slider.value,'tau':HV_tau_slider.value}\n",
    "        HV_number=numveh_slider.value\n",
    "        updateVehicleClasses(HV_user_values_dict=HV_user_values_dict,HV_number=HV_number)\n",
    "    except NameError as e:\n",
    "    #If the button isn't shown, skip this part entirely\n",
    "        pass\n",
    "    \n",
    "    if not simComplete:\n",
    "        print(f'Simulating scenario...')\n",
    "        # Initialise the simulation object.\n",
    "        scenario_desc = f\"Circular roadway. \"+datetime.now().strftime(\"%Y-%m-%d %H:%M:%S\") #Procedurally generated scenario description for later readability\n",
    "        my_sim = Simulation(scenario_name, scenario_desc=scenario_desc)\n",
    "        # Add \"-seed {x}\" to the command line to set a seed for the simulation\n",
    "        sim_seed = \"1\" if \"-seed\" not in sys.argv[:-1] else sys.argv[sys.argv.index(\"-seed\")+1]\n",
    "        seed(int(sim_seed))\n",
    "        try:\n",
    "            runScenario(my_sim)\n",
    "        except Exception as e:\n",
    "            print(\"Scenario computation failed. Error detail:\", e)\n",
    "            pass #Simply discard this simulation\n",
    "        \n",
    "        simComplete=True\n",
    "        if save_sim_toggle.value: #boolean\n",
    "            my_sim.save_data(scenario_savefile)\n",
    "            \n",
    "            \n",
    "        #if compare_sim_results_toggle.value:\n",
    "        my_sim.save_data('./experiments/curr_sim.pkl') #just do it anyway, cleaner.\n",
    "        my_sim.print_summary('./experiments/curr_sim.txt')\n",
    "        \n",
    "        \n",
    "    "
   ]
  },
  {
   "cell_type": "markdown",
   "metadata": {},
   "source": [
    "# Simulation results"
   ]
  },
  {
   "cell_type": "code",
   "execution_count": null,
   "metadata": {},
   "outputs": [],
   "source": [
    "# Visualisation cells: show relevant sim results directly from my_sim object (skip saving)\n",
    "if simComplete and not compare_sim_results_toggle.value:\n",
    "    plt = Plotter(my_sim,time_unit=\"minutes\")\n",
    "\n",
    "elif simComplete and compare_sim_results_toggle.value:\n",
    "    old_sim='./experiments/old_sim.pkl'\n",
    "    my_sim_file='./experiments/curr_sim.pkl'\n",
    "    #Print relevant simulation information here\n",
    "    old_sim_desc='./experiments/old_sim.txt'\n",
    "    my_sim_desc='./experiments/curr_sim.txt'\n",
    "    print(\"Current simulation scenario:\\n\" + readSimDescription(my_sim_desc))\n",
    "    print(\"Previous simulation scenario:\\n\" + readSimDescription(old_sim_desc))\n",
    "    mplt = MultiPlotter(scenario_label=f\"{readSimDescription(my_sim_desc)} [current] vs \\n {readSimDescription(old_sim_desc)} [previous] \\n\",time_unit=\"minutes\")\n",
    "    mplt.add_simulations([my_sim_file, old_sim], labels=[\"Current scenario\",\"Previous scenario\"] )\n",
    "    "
   ]
  },
  {
   "cell_type": "markdown",
   "metadata": {},
   "source": [
    "## Trajectories"
   ]
  },
  {
   "cell_type": "code",
   "execution_count": null,
   "metadata": {},
   "outputs": [],
   "source": [
    "trackedEdges=[\"B999B1000\",\"B999B1000.327\"] #hardcoded for convenience, could allow for some selection with another input widget if I so please - but then needs a good label dictionary to avoid having these numerical IDs - and a good explanatory figure!\n",
    "\n",
    "if simComplete and not compare_sim_results_toggle.value:\n",
    "    plt.plot_trajectories(trackedEdges, lane_idx=0)\n",
    "elif simComplete and compare_sim_results_toggle.value:\n",
    "    # This needs to be done with two plt objects loaded and plotted manually one by one (oof.)\n",
    "    plt = Plotter(my_sim_file,time_unit=\"minutes\")\n",
    "    plt.plot_trajectories(trackedEdges)\n",
    "\n",
    "    plt2 = Plotter(old_sim,time_unit=\"minutes\")\n",
    "    plt2.plot_trajectories(trackedEdges)\n"
   ]
  },
  {
   "cell_type": "markdown",
   "metadata": {},
   "source": [
    "## Space-time diagrams"
   ]
  },
  {
   "cell_type": "code",
   "execution_count": null,
   "metadata": {},
   "outputs": [],
   "source": [
    "trackedEdges=[\"B999B1000\",\"B999B1000.327\"] #hardcoded for convenience, could allow for some selection with another input widget if I so please - but then needs a good label dictionary to avoid having these numerical IDs - and a good explanatory figure!\n",
    "\n",
    "if simComplete and not compare_sim_results_toggle.value:\n",
    "    plt.plot_space_time_diagram(trackedEdges)\n",
    "elif simComplete and compare_sim_results_toggle.value:\n",
    "    # This needs to be done with two plt objects loaded and plotted manually one by one (oof.)\n",
    "    plt = Plotter(my_sim_file,time_unit=\"minutes\")\n",
    "    plt.plot_space_time_diagram(trackedEdges)\n",
    "\n",
    "    plt2 = Plotter(old_sim,time_unit=\"minutes\")\n",
    "    plt2.plot_space_time_diagram(trackedEdges)\n"
   ]
  },
  {
   "cell_type": "markdown",
   "metadata": {},
   "source": [
    "## Road speeds"
   ]
  },
  {
   "cell_type": "code",
   "execution_count": null,
   "metadata": {},
   "outputs": [],
   "source": [
    "trackedEdges=[\"B999B1000\",\"B999B1000.327\"] #hardcoded for convenience, could allow for some selection with another input widget if I so please - but then needs a good label dictionary to avoid having these numerical IDs - and a good explanatory figure!\n",
    "\n",
    "if simComplete and not compare_sim_results_toggle.value:\n",
    "    for edge in trackedEdges:\n",
    "        plt.plot_edge_data(edge,\"speeds\")\n",
    "elif simComplete and compare_sim_results_toggle.value:\n",
    "    # This needs to be done with two plt objects loaded and plotted manually one by one (oof.)\n",
    "    plt = Plotter(my_sim_file,time_unit=\"minutes\")\n",
    "    for edge in trackedEdges:\n",
    "        plt.plot_edge_data(edge,\"speeds\")\n",
    "\n",
    "    plt2 = Plotter(old_sim,time_unit=\"minutes\")\n",
    "    for edge in trackedEdges:\n",
    "        plt2.plot_edge_data(edge,\"speeds\")\n",
    "    \n"
   ]
  },
  {
   "cell_type": "markdown",
   "metadata": {},
   "source": [
    "## Road densities"
   ]
  },
  {
   "cell_type": "code",
   "execution_count": null,
   "metadata": {},
   "outputs": [],
   "source": [
    "trackedEdges=[\"B999B1000\",\"B999B1000.327\"] #hardcoded for convenience, could allow for some selection with another input widget if I so please - but then needs a good label dictionary to avoid having these numerical IDs - and a good explanatory figure!\n",
    "\n",
    "if simComplete and not compare_sim_results_toggle.value:\n",
    "    for edge in trackedEdges:\n",
    "        plt.plot_edge_data(edge,\"densities\")\n",
    "elif simComplete and compare_sim_results_toggle.value:\n",
    "    # This needs to be done with two plt objects loaded and plotted manually one by one (oof.)\n",
    "    plt = Plotter(my_sim_file,time_unit=\"minutes\")\n",
    "    for edge in trackedEdges:\n",
    "        plt.plot_edge_data(edge,\"densities\")\n",
    "\n",
    "    plt2 = Plotter(old_sim,time_unit=\"minutes\")\n",
    "    for edge in trackedEdges:\n",
    "        plt2.plot_edge_data(edge,\"densities\")\n",
    "    "
   ]
  },
  {
   "cell_type": "markdown",
   "metadata": {},
   "source": [
    "## Road flows"
   ]
  },
  {
   "cell_type": "code",
   "execution_count": null,
   "metadata": {},
   "outputs": [],
   "source": [
    "trackedEdges=[\"B999B1000\",\"B999B1000.327\"] #hardcoded for convenience, could allow for some selection with another input widget if I so please - but then needs a good label dictionary to avoid having these numerical IDs - and a good explanatory figure!\n",
    "\n",
    "if simComplete and not compare_sim_results_toggle.value:\n",
    "    for edge in trackedEdges:\n",
    "        plt.plot_edge_data(edge,\"flows\")\n",
    "elif simComplete and compare_sim_results_toggle.value:\n",
    "    # This needs to be done with two plt objects loaded and plotted manually one by one (oof.)\n",
    "    plt = Plotter(my_sim_file,time_unit=\"minutes\")\n",
    "    for edge in trackedEdges:\n",
    "        plt.plot_edge_data(edge,\"flows\")\n",
    "\n",
    "    plt2 = Plotter(old_sim,time_unit=\"minutes\")\n",
    "    for edge in trackedEdges:\n",
    "        plt2.plot_edge_data(edge,\"flows\")\n",
    "    "
   ]
  },
  {
   "cell_type": "markdown",
   "metadata": {},
   "source": [
    "## Total number of vehicles in the ring road"
   ]
  },
  {
   "cell_type": "code",
   "execution_count": null,
   "metadata": {},
   "outputs": [],
   "source": [
    "if simComplete and not compare_sim_results_toggle.value:\n",
    "    plt.plot_vehicle_data(\"no_vehicles\")\n",
    "elif simComplete and compare_sim_results_toggle.value:\n",
    "    # This needs to be done with two plt objects loaded and plotted manually one by one (oof.)\n",
    "    plt = Plotter(my_sim_file,time_unit=\"minutes\")\n",
    "    plt.plot_vehicle_data(\"no_vehicles\")\n",
    "\n",
    "    plt2 = Plotter(old_sim,time_unit=\"minutes\")\n",
    "    plt2.plot_vehicle_data(\"no_vehicles\")"
   ]
  },
  {
   "cell_type": "markdown",
   "metadata": {},
   "source": []
  },
  {
   "cell_type": "code",
   "execution_count": null,
   "metadata": {},
   "outputs": [],
   "source": [
    "#Finally, replace old with current simulation, where applicable\n",
    "if simComplete:\n",
    "    shutil.copy(\"./experiments/curr_sim.pkl\",\"./experiments/old_sim.pkl\")\n",
    "    shutil.copy(\"./experiments/curr_sim.txt\",\"./experiments/old_sim.txt\")\n"
   ]
  }
 ],
 "metadata": {
  "kernelspec": {
   "display_name": "Python 3",
   "language": "python",
   "name": "python3"
  },
  "language_info": {
   "codemirror_mode": {
    "name": "ipython",
    "version": 3
   },
   "file_extension": ".py",
   "mimetype": "text/x-python",
   "name": "python",
   "nbconvert_exporter": "python",
   "pygments_lexer": "ipython3",
   "version": "3.12.11"
  }
 },
 "nbformat": 4,
 "nbformat_minor": 2
}
